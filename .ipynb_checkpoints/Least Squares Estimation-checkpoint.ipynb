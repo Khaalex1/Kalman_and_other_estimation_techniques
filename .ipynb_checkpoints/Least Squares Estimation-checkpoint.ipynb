{
 "cells": [
  {
   "cell_type": "markdown",
   "id": "dcc3fc76",
   "metadata": {},
   "source": [
    "# Least Squares Estimation\n",
    "\n",
    "## Exercices from ensi_isterobV2 ~p.139"
   ]
  },
  {
   "cell_type": "code",
   "execution_count": 1,
   "id": "4ecb2ee4",
   "metadata": {},
   "outputs": [],
   "source": [
    "import numpy as np\n",
    "import scipy.linalg as sc\n",
    "from math import *\n",
    "import matplotlib.pyplot as plt\n",
    "from scipy.linalg import sqrtm, expm, norm, block_diag"
   ]
  },
  {
   "cell_type": "markdown",
   "id": "c32a063c",
   "metadata": {},
   "source": [
    "# Ex 6.2\n",
    "\n"
   ]
  },
  {
   "cell_type": "code",
   "execution_count": null,
   "id": "46710526",
   "metadata": {},
   "outputs": [],
   "source": [
    "def ls(A,Y):\n",
    "    \"\"\"\n",
    "    Least squares estimator. Finds X approximating AX = Y with LS estimation\n",
    "    :param A: numpy array (m,n)\n",
    "    :param Y: numpy array (m,p)\n",
    "    :return: estimated solution numpy array (n,p)\n",
    "    \"\"\"\n",
    "    ATA = A.T @ A\n",
    "    B = A.T @ Y\n",
    "    return np.linalg.solve(ATA,B)"
   ]
  }
 ],
 "metadata": {
  "kernelspec": {
   "display_name": "Python 3 (ipykernel)",
   "language": "python",
   "name": "python3"
  },
  "language_info": {
   "codemirror_mode": {
    "name": "ipython",
    "version": 3
   },
   "file_extension": ".py",
   "mimetype": "text/x-python",
   "name": "python",
   "nbconvert_exporter": "python",
   "pygments_lexer": "ipython3",
   "version": "3.9.7"
  }
 },
 "nbformat": 4,
 "nbformat_minor": 5
}
