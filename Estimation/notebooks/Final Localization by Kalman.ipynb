{
 "cells": [
  {
   "cell_type": "code",
   "execution_count": 3,
   "id": "c6af2029",
   "metadata": {},
   "outputs": [
    {
     "name": "stdout",
     "output_type": "stream",
     "text": [
      "Requirement already satisfied: celluloid in c:\\users\\alexa\\anaconda3\\lib\\site-packages (0.2.0)\n",
      "Requirement already satisfied: matplotlib in c:\\users\\alexa\\anaconda3\\lib\\site-packages (from celluloid) (3.4.3)\n",
      "Requirement already satisfied: kiwisolver>=1.0.1 in c:\\users\\alexa\\anaconda3\\lib\\site-packages (from matplotlib->celluloid) (1.3.1)\n",
      "Requirement already satisfied: pillow>=6.2.0 in c:\\users\\alexa\\anaconda3\\lib\\site-packages (from matplotlib->celluloid) (8.4.0)\n",
      "Requirement already satisfied: cycler>=0.10 in c:\\users\\alexa\\anaconda3\\lib\\site-packages (from matplotlib->celluloid) (0.10.0)\n",
      "Requirement already satisfied: python-dateutil>=2.7 in c:\\users\\alexa\\anaconda3\\lib\\site-packages (from matplotlib->celluloid) (2.8.2)\n",
      "Requirement already satisfied: pyparsing>=2.2.1 in c:\\users\\alexa\\anaconda3\\lib\\site-packages (from matplotlib->celluloid) (3.0.4)\n",
      "Requirement already satisfied: numpy>=1.16 in c:\\users\\alexa\\anaconda3\\lib\\site-packages (from matplotlib->celluloid) (1.22.4)\n",
      "Requirement already satisfied: six in c:\\users\\alexa\\anaconda3\\lib\\site-packages (from cycler>=0.10->matplotlib->celluloid) (1.16.0)\n"
     ]
    }
   ],
   "source": [
    "import numpy as np\n",
    "from numpy import cos, sin, pi\n",
    "from scipy.linalg import det, expm, inv, sqrtm\n",
    "import matplotlib.pyplot as plt\n",
    "from matplotlib import animation\n",
    "from numpy.random import randn\n",
    "from celluloid import Camera"
   ]
  },
  {
   "cell_type": "code",
   "execution_count": null,
   "id": "f6ac0261",
   "metadata": {},
   "outputs": [],
   "source": [
    "#complete filter\n",
    "\n",
    "def kalman_correction(xc, y, C, G_x, G_b):\n",
    "    yt = y - C @ xc\n",
    "    G_y = C @ G_x @ C.T + G_b\n",
    "    K = G_x @ C.T @ np.linalg.inv(G_y)\n",
    "    xc = xc + K @ yt\n",
    "    G_x = G_x - K @ C @ G_x\n",
    "    return xc, G_x\n",
    "\n",
    "\n",
    "def kalman_prediction(xc, G_x, A, u):\n",
    "    xc = A @ xc + u\n",
    "    G_x = A @ G_x @ A.T + G_alpha\n",
    "    return xc, G_x\n",
    "\n",
    "def kalman(xc, G_x, G_b, A, u, G_alpha,  y, C):\n",
    "    x_c , G_x = kalman_correction(xc, y, C, G_x, G_b)\n",
    "    x_c, G_x = kalman_prediction(xc, G_x, A, u, G_alpha)\n",
    "    return x_c, G_x\n",
    "\n",
    "# confidence ellipse\n",
    "\n",
    "def ellipse(mean, G, eta):\n",
    "    \"\"\"\n",
    "    to plot confidence ellispe\n",
    "    :param mean: mean vector of distribution\n",
    "    :param G: Covariance matrix of distribution\n",
    "    :param eta: distribution remains inside the ellipse with proba eta\n",
    "    \"\"\"\n",
    "    a = np.sqrt(-2 * np.log(1 - eta))\n",
    "    theta = np.linspace(0, 2 * np.pi, 100)\n",
    "        \n",
    "    w = np.repeat(mean, 100, axis=1)\n",
    "    sq = sqrtm(G)\n",
    "    W = w + a*sq@np.array([np.cos(theta), np.sin(theta)])\n",
    "\n",
    "            \n",
    "    X = W[0]\n",
    "    Y = W[1]\n",
    "    plt.plot(X, Y, color = \"pink\")\n",
    "\n"
   ]
  }
 ],
 "metadata": {
  "kernelspec": {
   "display_name": "Python 3 (ipykernel)",
   "language": "python",
   "name": "python3"
  },
  "language_info": {
   "codemirror_mode": {
    "name": "ipython",
    "version": 3
   },
   "file_extension": ".py",
   "mimetype": "text/x-python",
   "name": "python",
   "nbconvert_exporter": "python",
   "pygments_lexer": "ipython3",
   "version": "3.9.7"
  }
 },
 "nbformat": 4,
 "nbformat_minor": 5
}
