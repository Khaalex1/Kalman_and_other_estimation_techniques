{
 "cells": [
  {
   "cell_type": "code",
   "execution_count": 3,
   "id": "c6af2029",
   "metadata": {},
   "outputs": [
    {
     "name": "stdout",
     "output_type": "stream",
     "text": [
      "Requirement already satisfied: celluloid in c:\\users\\alexa\\anaconda3\\lib\\site-packages (0.2.0)\n",
      "Requirement already satisfied: matplotlib in c:\\users\\alexa\\anaconda3\\lib\\site-packages (from celluloid) (3.4.3)\n",
      "Requirement already satisfied: kiwisolver>=1.0.1 in c:\\users\\alexa\\anaconda3\\lib\\site-packages (from matplotlib->celluloid) (1.3.1)\n",
      "Requirement already satisfied: pillow>=6.2.0 in c:\\users\\alexa\\anaconda3\\lib\\site-packages (from matplotlib->celluloid) (8.4.0)\n",
      "Requirement already satisfied: cycler>=0.10 in c:\\users\\alexa\\anaconda3\\lib\\site-packages (from matplotlib->celluloid) (0.10.0)\n",
      "Requirement already satisfied: python-dateutil>=2.7 in c:\\users\\alexa\\anaconda3\\lib\\site-packages (from matplotlib->celluloid) (2.8.2)\n",
      "Requirement already satisfied: pyparsing>=2.2.1 in c:\\users\\alexa\\anaconda3\\lib\\site-packages (from matplotlib->celluloid) (3.0.4)\n",
      "Requirement already satisfied: numpy>=1.16 in c:\\users\\alexa\\anaconda3\\lib\\site-packages (from matplotlib->celluloid) (1.22.4)\n",
      "Requirement already satisfied: six in c:\\users\\alexa\\anaconda3\\lib\\site-packages (from cycler>=0.10->matplotlib->celluloid) (1.16.0)\n"
     ]
    }
   ],
   "source": [
    "!pip install celluloid\n",
    "import numpy as np\n",
    "from numpy import cos, sin, pi\n",
    "from scipy.linalg import det, expm, inv, sqrtm\n",
    "import matplotlib.pyplot as plt\n",
    "from matplotlib import animation\n",
    "from numpy.random import randn\n",
    "from celluloid import Camera"
   ]
  },
  {
   "cell_type": "code",
   "execution_count": null,
   "id": "f6ac0261",
   "metadata": {},
   "outputs": [],
   "source": []
  }
 ],
 "metadata": {
  "kernelspec": {
   "display_name": "Python 3 (ipykernel)",
   "language": "python",
   "name": "python3"
  },
  "language_info": {
   "codemirror_mode": {
    "name": "ipython",
    "version": 3
   },
   "file_extension": ".py",
   "mimetype": "text/x-python",
   "name": "python",
   "nbconvert_exporter": "python",
   "pygments_lexer": "ipython3",
   "version": "3.9.7"
  }
 },
 "nbformat": 4,
 "nbformat_minor": 5
}
