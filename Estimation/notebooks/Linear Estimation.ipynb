{
 "cells": [
  {
   "cell_type": "markdown",
   "id": "b797832c",
   "metadata": {},
   "source": [
    "# Linear Estimation : Kalman's correction"
   ]
  },
  {
   "cell_type": "code",
   "execution_count": 1,
   "id": "1dedca0c",
   "metadata": {},
   "outputs": [],
   "source": [
    "import numpy as np\n",
    "from numpy import cos, sin, pi\n",
    "from scipy.linalg import det, expm, inv, sqrtm\n",
    "import matplotlib.pyplot as plt\n",
    "from numpy.random import randn"
   ]
  },
  {
   "cell_type": "markdown",
   "id": "da8c2ac3",
   "metadata": {},
   "source": [
    "# Ex 7.7"
   ]
  },
  {
   "cell_type": "code",
   "execution_count": null,
   "id": "48985e2d",
   "metadata": {},
   "outputs": [],
   "source": []
  }
 ],
 "metadata": {
  "kernelspec": {
   "display_name": "Python 3 (ipykernel)",
   "language": "python",
   "name": "python3"
  },
  "language_info": {
   "codemirror_mode": {
    "name": "ipython",
    "version": 3
   },
   "file_extension": ".py",
   "mimetype": "text/x-python",
   "name": "python",
   "nbconvert_exporter": "python",
   "pygments_lexer": "ipython3",
   "version": "3.9.7"
  }
 },
 "nbformat": 4,
 "nbformat_minor": 5
}
